{
 "cells": [
  {
   "cell_type": "markdown",
   "metadata": {},
   "source": [
    "<h1><font style = \"color:blue\"> Calculating posterior distributions and modal estimates in Markov mixture models </font></h1>"
   ]
  },
  {
   "cell_type": "markdown",
   "metadata": {},
   "source": [
    "* P matrice de transition\n",
    "* n matrice des nombre de transitions\n",
    "* a premier paramètre de l'a priori gamma sur les lambda\n",
    "* b second paramètre de l'a priori gamma sur les lambda\n",
    "* S liste des états\n",
    "* lambda  paramètres de la Poisson\n",
    "* alpha premier paramètre du gamma sur les $P_{i,j}$\n",
    "* Y les observations"
   ]
  },
  {
   "cell_type": "markdown",
   "metadata": {},
   "source": [
    "The states are simulated according to :\n",
    " \n",
    " $p(s_t/Y_n, S^{t+1}, \\theta) \\propto p(s_t/Y_t, \\theta) \\times p(s_{t+1}/ s_t, \\theta)$\n",
    " \n",
    " * Estimate  $ p(s_t/Y_t, \\theta)$:\n",
    "     * Predict\n",
    "     * Update\n",
    " * Estimate $p(s_{t+1}/ s_t, \\theta)$ via a Gamma prior\n",
    " \n",
    "And, finally, simulate the states starting from the last one : $s_n$"
   ]
  },
  {
   "cell_type": "markdown",
   "metadata": {},
   "source": [
    "# Outline\n",
    "\n",
    "- Simulate S/Y, $\\theta$, P\n",
    "- Simulate P/Y, $\\theta$, S\n",
    "- Simuler $\\theta$/Y,S,P  \n",
    "==> Restart until Nmax"
   ]
  },
  {
   "cell_type": "code",
   "execution_count": 1,
   "metadata": {},
   "outputs": [],
   "source": [
    "import pandas as pd, numpy as np, scipy as sp\n",
    "from scipy import stats\n",
    "from matplotlib import pyplot as plt\n",
    "%matplotlib inline"
   ]
  },
  {
   "cell_type": "markdown",
   "metadata": {},
   "source": [
    "# Simulate theta"
   ]
  },
  {
   "cell_type": "code",
   "execution_count": 2,
   "metadata": {},
   "outputs": [],
   "source": [
    "def get_lambda(Y, S, a, b): # Simulate lambda_prior given the observations and states\n",
    "    u = np.bincount(S, weights= Y)\n",
    "    v = np.bincount(S)\n",
    "    return stats.gamma.rvs(a = a+u, scale = 1/(b + v))"
   ]
  },
  {
   "cell_type": "code",
   "execution_count": 3,
   "metadata": {},
   "outputs": [
    {
     "data": {
      "text/plain": [
       "array([1.03183819, 0.68491331])"
      ]
     },
     "execution_count": 3,
     "metadata": {},
     "output_type": "execute_result"
    }
   ],
   "source": [
    "# Some tests\n",
    "Y = np.array([1]*10)\n",
    "S = np.array([0,1]*5) # Just two states: O or 1\n",
    "a = np.array([1,2]) # First gamma prior parameter\n",
    "b = np.array([2, 1]) # Second gamma prior parameter\n",
    "\n",
    "get_lambda(Y, S,a, b)"
   ]
  },
  {
   "cell_type": "code",
   "execution_count": null,
   "metadata": {},
   "outputs": [],
   "source": []
  },
  {
   "cell_type": "markdown",
   "metadata": {},
   "source": [
    "# Simulate P"
   ]
  },
  {
   "cell_type": "code",
   "execution_count": 4,
   "metadata": {},
   "outputs": [],
   "source": [
    "def get_P(S, alpha, rep = 1): # rep : simulate several or just one Dirichlet ?\n",
    "    n = np.zeros(alpha.shape)\n",
    "    tab = pd.crosstab(S[:-1], S[1:]) # transitions' count\n",
    "    n[ :len(tab), tab.columns] = tab.values\n",
    "    a = alpha + n\n",
    "    g2 = 0\n",
    "    for i in range(rep):\n",
    "        g = stats.gamma(a = a).rvs()\n",
    "        g = g/g.sum(1)[:, None]\n",
    "        g2 = (i*g2 + g)/(i+1)\n",
    "    return  g2"
   ]
  },
  {
   "cell_type": "code",
   "execution_count": 5,
   "metadata": {},
   "outputs": [
    {
     "data": {
      "text/plain": [
       "array([[0.18806365, 0.81193635],\n",
       "       [0.75371082, 0.24628918]])"
      ]
     },
     "execution_count": 5,
     "metadata": {},
     "output_type": "execute_result"
    }
   ],
   "source": [
    "# Some tests\n",
    "S = np.array([0, 1]*5) # two states : 0 or 1\n",
    "alpha = np.array([[1, 1], [1, 1]]) \n",
    "get_P(S, alpha)"
   ]
  },
  {
   "cell_type": "markdown",
   "metadata": {},
   "source": [
    "# SImulate S"
   ]
  },
  {
   "cell_type": "code",
   "execution_count": 6,
   "metadata": {},
   "outputs": [],
   "source": [
    "def _init(P): # Compute the left eigenvector assocated with the eigenvalue 1\n",
    "    eigval, eigvect = sp.linalg.eig(P, left = True, right=  False)\n",
    "    p = eigvect[:, eigval.real.round(3) == 1.].reshape(-1)\n",
    "    p = p/p.sum()\n",
    "    return p"
   ]
  },
  {
   "cell_type": "code",
   "execution_count": 7,
   "metadata": {},
   "outputs": [],
   "source": [
    "def poisson(y, _lambda): # Poisson cdf\n",
    "    return np.power(_lambda, y)*np.exp(-_lambda)/sp.special.factorial(y)\n",
    "\n",
    "def poisson2(y, _lambda): # Poisson cdf\n",
    "    return stats.poisson.pmf(y, _lambda)"
   ]
  },
  {
   "cell_type": "code",
   "execution_count": null,
   "metadata": {},
   "outputs": [],
   "source": []
  },
  {
   "cell_type": "code",
   "execution_count": 8,
   "metadata": {},
   "outputs": [],
   "source": [
    "def get_S(Y, theta, P, f): # Simulate the states\n",
    "    n = len(Y)\n",
    "    m = len(P)\n",
    "    \n",
    "    F = np.zeros((n, m))\n",
    "    \n",
    "    v = f(Y[0], theta)\n",
    "    F[0] = _init(P)*v\n",
    "    F[0] = F[0]/F[0].sum()\n",
    "    for i in range(1, n):\n",
    "        v = f(Y[i], theta)\n",
    "        F[i] = (F[i-1]@P)*v\n",
    "        F[i] = F[i]/F[i].sum()\n",
    "    \n",
    "    S = np.zeros(n, dtype = int)\n",
    "    a = np.arange(m)\n",
    "    p = F[-1]\n",
    "    S[-1] = np.random.choice(a = a , p = p/p.sum())    \n",
    "    \n",
    "    for i in range(n-2, 0, -1):\n",
    "        p = F[i]*P[:, S[i+1]]\n",
    "        S[i] = np.random.choice(a = a , p = p/p.sum())\n",
    "        \n",
    "    return F, S"
   ]
  },
  {
   "cell_type": "code",
   "execution_count": 9,
   "metadata": {},
   "outputs": [],
   "source": [
    "# Some tests"
   ]
  },
  {
   "cell_type": "code",
   "execution_count": 10,
   "metadata": {},
   "outputs": [
    {
     "data": {
      "text/plain": [
       "(array([[0.92, 0.08],\n",
       "        [0.  , 1.  ],\n",
       "        [0.79, 0.21],\n",
       "        [0.  , 1.  ],\n",
       "        [0.44, 0.56],\n",
       "        [0.  , 1.  ],\n",
       "        [0.8 , 0.2 ],\n",
       "        [0.8 , 0.2 ],\n",
       "        [0.44, 0.56],\n",
       "        [0.1 , 0.9 ]]), array([0, 1, 0, 1, 0, 1, 0, 1, 0, 1]))"
      ]
     },
     "execution_count": 10,
     "metadata": {},
     "output_type": "execute_result"
    }
   ],
   "source": [
    "P = np.array([[0.1,0.9],[0.9,0.1]])\n",
    "y = np.array([1,5,3, 7, 4, 8, 3, 1,2, 4])\n",
    "_lambda = np.array([1, 5])\n",
    "\n",
    "F,S = get_S(y, _lambda, P, poisson)\n",
    "F.round(2), S"
   ]
  },
  {
   "cell_type": "markdown",
   "metadata": {},
   "source": [
    "# Gibbs sampler"
   ]
  },
  {
   "cell_type": "code",
   "execution_count": 11,
   "metadata": {},
   "outputs": [],
   "source": [
    "def gibbs(S0,f,Y, alpha, a, b , T): # The final gibbs sampler, starts form a given S0\n",
    "    L = {\"theta\":[], \"S\": [] }\n",
    "    for t in range(T):\n",
    "        theta = get_lambda(Y,S0, a,b)\n",
    "        P = get_P(S0, alpha)\n",
    "        F,S = get_S(Y, theta, P, f)\n",
    "        S0 = S\n",
    "        L[\"theta\"].append(theta)\n",
    "        L[\"S\"].append(S)\n",
    "    return L"
   ]
  },
  {
   "cell_type": "code",
   "execution_count": null,
   "metadata": {},
   "outputs": [],
   "source": []
  },
  {
   "cell_type": "markdown",
   "metadata": {},
   "source": [
    "# We're gonna test our gibbs sampler on an artificial data"
   ]
  },
  {
   "cell_type": "code",
   "execution_count": 12,
   "metadata": {},
   "outputs": [],
   "source": [
    "def simul_poisson(P, lambda_, size = 10): # Simulate an artificial poisson MMM\n",
    "    y = []\n",
    "    m = len(lambda_)\n",
    "    s = np.random.choice(m)\n",
    "    for t in range(size):\n",
    "        y.append(stats.poisson.rvs(mu = lambda_[s]))\n",
    "        s = np.random.choice(m, p = P[s])\n",
    "    return y"
   ]
  },
  {
   "cell_type": "code",
   "execution_count": 13,
   "metadata": {},
   "outputs": [],
   "source": [
    "P0 = np.array([[0.67, 0.33], [0.45, 0.55]])\n",
    "theta0 = np.array([1., 10])"
   ]
  },
  {
   "cell_type": "code",
   "execution_count": 14,
   "metadata": {},
   "outputs": [
    {
     "data": {
      "text/plain": [
       "(array([76.,  4., 11., 14., 17., 14.,  8.,  4.,  1.,  1.]),\n",
       " array([ 0. ,  2.1,  4.2,  6.3,  8.4, 10.5, 12.6, 14.7, 16.8, 18.9, 21. ]),\n",
       " <a list of 10 Patch objects>)"
      ]
     },
     "execution_count": 14,
     "metadata": {},
     "output_type": "execute_result"
    },
    {
     "data": {
      "image/png": "[encoded data removed]",
      "text/plain": [
       "<Figure size 432x288 with 1 Axes>"
      ]
     },
     "metadata": {
      "needs_background": "light"
     },
     "output_type": "display_data"
    }
   ],
   "source": [
    "y = simul_poisson(P0, theta0, size = 150)\n",
    "plt.hist(y)"
   ]
  },
  {
   "cell_type": "markdown",
   "metadata": {},
   "source": [
    "# Can gibbs sampler recover the underlying  model ?"
   ]
  },
  {
   "cell_type": "code",
   "execution_count": 15,
   "metadata": {},
   "outputs": [
    {
     "data": {
      "text/plain": [
       "array([0, 0, 1, 0, 0, 1, 1, 0, 1, 1])"
      ]
     },
     "execution_count": 15,
     "metadata": {},
     "output_type": "execute_result"
    }
   ],
   "source": [
    "n = len(y)\n",
    "alpha = np.array([[0.75, 0.25], [0.5,0.5]])\n",
    "a = np.array([1, 2])\n",
    "b = np.array([2, 1])\n",
    "S0 = np.random.choice(2, n)\n",
    "S0[:10]"
   ]
  },
  {
   "cell_type": "code",
   "execution_count": 16,
   "metadata": {},
   "outputs": [
    {
     "data": {
      "text/plain": [
       "(array([0, 1, 1, 1, 0, 1, 1, 0, 1, 1, 1, 1, 0, 0, 1, 1, 1, 1, 1, 1, 1, 0,\n",
       "        1, 0, 0, 1, 1, 1, 1, 1, 0, 1, 1, 0, 0, 1, 1, 1, 0, 1, 1, 0, 1, 1,\n",
       "        0, 1, 1, 0, 0, 0, 1, 1, 1, 1, 1, 1, 0, 1, 0, 0, 0, 0, 1, 1, 0, 0,\n",
       "        0, 1, 0, 0, 0, 0, 0, 0, 1, 0, 1, 0, 0, 0, 1, 1, 0, 1, 0, 0, 0, 1,\n",
       "        0, 0, 1, 1, 1, 1, 1, 1, 0, 0, 0, 0, 1, 0, 1, 1, 1, 0, 0, 0, 1, 1,\n",
       "        0, 0, 0, 0, 0, 0, 1, 0, 0, 0, 0, 0, 1, 0, 1, 1, 0, 0, 1, 0, 0, 1,\n",
       "        1, 0, 1, 0, 0, 0, 1, 1, 1, 1, 0, 0, 0, 1, 0, 1, 1, 1]),\n",
       " array([9.21957203, 0.87576762]))"
      ]
     },
     "execution_count": 16,
     "metadata": {},
     "output_type": "execute_result"
    }
   ],
   "source": [
    "L = gibbs(S0, poisson,y, alpha, a, b, T = 300)\n",
    "L[\"S\"][-1], L[\"theta\"][-1]"
   ]
  },
  {
   "cell_type": "code",
   "execution_count": 17,
   "metadata": {},
   "outputs": [
    {
     "data": {
      "text/plain": [
       "array([9.40571042, 0.9655602 ])"
      ]
     },
     "execution_count": 17,
     "metadata": {},
     "output_type": "execute_result"
    }
   ],
   "source": [
    "np.array(L[\"theta\"][100:]).mean(0) # Not so bad, isn't it  ?"
   ]
  },
  {
   "cell_type": "code",
   "execution_count": 18,
   "metadata": {},
   "outputs": [
    {
     "data": {
      "text/plain": [
       "array([[0.53644112, 0.46355888],\n",
       "       [0.3349842 , 0.6650158 ]])"
      ]
     },
     "execution_count": 18,
     "metadata": {},
     "output_type": "execute_result"
    }
   ],
   "source": [
    "get_P(L[\"S\"][-3], alpha) # Almost !"
   ]
  },
  {
   "cell_type": "markdown",
   "metadata": {},
   "source": [
    "# On a real dataset :  the 'lamb' dataset"
   ]
  },
  {
   "cell_type": "code",
   "execution_count": 19,
   "metadata": {},
   "outputs": [
    {
     "data": {
      "text/html": [
       "<div>\n",
       "<style scoped>\n",
       "    .dataframe tbody tr th:only-of-type {\n",
       "        vertical-align: middle;\n",
       "    }\n",
       "\n",
       "    .dataframe tbody tr th {\n",
       "        vertical-align: top;\n",
       "    }\n",
       "\n",
       "    .dataframe thead th {\n",
       "        text-align: right;\n",
       "    }\n",
       "</style>\n",
       "<table border=\"1\" class=\"dataframe\">\n",
       "  <thead>\n",
       "    <tr style=\"text-align: right;\">\n",
       "      <th></th>\n",
       "      <th>id</th>\n",
       "      <th>x</th>\n",
       "    </tr>\n",
       "  </thead>\n",
       "  <tbody>\n",
       "    <tr>\n",
       "      <th>0</th>\n",
       "      <td>1</td>\n",
       "      <td>0</td>\n",
       "    </tr>\n",
       "    <tr>\n",
       "      <th>1</th>\n",
       "      <td>2</td>\n",
       "      <td>0</td>\n",
       "    </tr>\n",
       "    <tr>\n",
       "      <th>2</th>\n",
       "      <td>3</td>\n",
       "      <td>0</td>\n",
       "    </tr>\n",
       "    <tr>\n",
       "      <th>3</th>\n",
       "      <td>4</td>\n",
       "      <td>0</td>\n",
       "    </tr>\n",
       "    <tr>\n",
       "      <th>4</th>\n",
       "      <td>5</td>\n",
       "      <td>0</td>\n",
       "    </tr>\n",
       "  </tbody>\n",
       "</table>\n",
       "</div>"
      ],
      "text/plain": [
       "   id  x\n",
       "0   1  0\n",
       "1   2  0\n",
       "2   3  0\n",
       "3   4  0\n",
       "4   5  0"
      ]
     },
     "execution_count": 19,
     "metadata": {},
     "output_type": "execute_result"
    }
   ],
   "source": [
    "df = pd.read_csv(\"lamb.csv\")\n",
    "df.head()"
   ]
  },
  {
   "cell_type": "code",
   "execution_count": 20,
   "metadata": {},
   "outputs": [
    {
     "data": {
      "text/plain": [
       "array([0, 1, 0, 1, 0, 1, 0, 1, 1, 1])"
      ]
     },
     "execution_count": 20,
     "metadata": {},
     "output_type": "execute_result"
    }
   ],
   "source": [
    "n = len(df)\n",
    "y = df.x.values\n",
    "alpha = np.array([[3, 1], [0.5,0.5]])\n",
    "a = np.array([1, 2])\n",
    "b = np.array([2, 1])\n",
    "S0 = np.random.choice(2, n)\n",
    "S0[:10]"
   ]
  },
  {
   "cell_type": "code",
   "execution_count": 21,
   "metadata": {},
   "outputs": [
    {
     "data": {
      "text/plain": [
       "(array([0, 0, 0, 0, 0, 0, 0, 0, 0, 0, 0, 0, 0, 0, 0, 0, 0, 0, 0, 0, 1, 1,\n",
       "        1, 0, 0, 0, 0, 0, 0, 0, 1, 1, 0, 0, 0, 0, 0, 0, 0, 0, 0, 0, 0, 0,\n",
       "        0, 0, 0, 0, 0, 0, 0, 0, 0, 0, 0, 0, 0, 0, 0, 0, 0, 0, 0, 0, 0, 0,\n",
       "        0, 0, 0, 0, 0, 0, 0, 0, 0, 0, 0, 0, 0, 0, 0, 0, 0, 0, 1, 1, 1, 1,\n",
       "        1, 1, 0, 0, 0, 0, 0, 0, 0, 0, 0, 0, 0, 0, 0, 0, 0, 0, 0, 0, 0, 0,\n",
       "        0, 0, 0, 0, 1, 0, 0, 0, 0, 0, 0, 0, 0, 0, 0, 0, 0, 0, 0, 0, 0, 0,\n",
       "        0, 0, 0, 1, 1, 0, 0, 0, 0, 0, 0, 0, 0, 0, 0, 0, 0, 0, 0, 0, 0, 0,\n",
       "        0, 0, 0, 0, 0, 0, 0, 0, 0, 0, 0, 0, 0, 0, 0, 0, 0, 0, 0, 1, 1, 1,\n",
       "        1, 1, 1, 0, 0, 0, 0, 0, 0, 0, 0, 0, 0, 0, 0, 0, 1, 0, 0, 0, 0, 0,\n",
       "        0, 0, 0, 0, 0, 0, 0, 0, 0, 0, 0, 0, 0, 0, 0, 0, 0, 0, 0, 0, 0, 0,\n",
       "        0, 0, 0, 0, 0, 0, 0, 0, 0, 0, 0, 0, 0, 0, 0, 0, 0, 0, 0, 0]),\n",
       " array([0.20653175, 2.11306656]))"
      ]
     },
     "execution_count": 21,
     "metadata": {},
     "output_type": "execute_result"
    }
   ],
   "source": [
    "L = gibbs(S0, poisson,y, alpha, a, b, T = 500)\n",
    "L[\"S\"][-1], L[\"theta\"][-1]"
   ]
  },
  {
   "cell_type": "code",
   "execution_count": 22,
   "metadata": {},
   "outputs": [
    {
     "data": {
      "text/plain": [
       "array([0.21667636, 2.24325407])"
      ]
     },
     "execution_count": 22,
     "metadata": {},
     "output_type": "execute_result"
    }
   ],
   "source": [
    "np.array(L[\"theta\"][100:]).mean(0) # Quite the same result as in the paper"
   ]
  },
  {
   "cell_type": "code",
   "execution_count": 23,
   "metadata": {},
   "outputs": [
    {
     "data": {
      "text/plain": [
       "array([[0.96418229, 0.03581771],\n",
       "       [0.33368305, 0.66631695]])"
      ]
     },
     "execution_count": 23,
     "metadata": {},
     "output_type": "execute_result"
    }
   ],
   "source": [
    "np.array([get_P(SS , alpha) for SS in L[\"S\"][100:]]).mean(0) # Yeaah !"
   ]
  },
  {
   "cell_type": "code",
   "execution_count": 24,
   "metadata": {},
   "outputs": [
    {
     "data": {
      "text/plain": [
       "array([219,  21])"
      ]
     },
     "execution_count": 24,
     "metadata": {},
     "output_type": "execute_result"
    }
   ],
   "source": [
    "np.bincount(np.array(L[\"S\"][-1]))"
   ]
  },
  {
   "cell_type": "code",
   "execution_count": null,
   "metadata": {},
   "outputs": [],
   "source": []
  }
 ],
 "metadata": {
  "kernelspec": {
   "display_name": "Python 3",
   "language": "python",
   "name": "python3"
  },
  "language_info": {
   "codemirror_mode": {
    "name": "ipython",
    "version": 3
   },
   "file_extension": ".py",
   "mimetype": "text/x-python",
   "name": "python",
   "nbconvert_exporter": "python",
   "pygments_lexer": "ipython3",
   "version": "3.7.0"
  }
 },
 "nbformat": 4,
 "nbformat_minor": 2
}
