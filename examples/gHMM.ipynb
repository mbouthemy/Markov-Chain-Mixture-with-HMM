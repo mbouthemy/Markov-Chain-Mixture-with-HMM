{
 "cells": [
  {
   "cell_type": "markdown",
   "metadata": {},
   "source": [
    "# Gaussian Hidden Markov Models"
   ]
  },
  {
   "cell_type": "code",
   "execution_count": 1,
   "metadata": {},
   "outputs": [],
   "source": [
    "# Set your working directory\n",
    "import os\n",
    "cwd = os.getcwd()\n",
    "os.chdir(cwd[:cwd.find(\"stat_bay\") + len(\"stat_bay\")])"
   ]
  },
  {
   "cell_type": "code",
   "execution_count": 2,
   "metadata": {},
   "outputs": [],
   "source": [
    "import numpy as np\n",
    "from matplotlib import pyplot as plt\n",
    "%matplotlib inline"
   ]
  },
  {
   "cell_type": "code",
   "execution_count": 4,
   "metadata": {},
   "outputs": [],
   "source": [
    "from models.HMM import HMM\n",
    "from models.posteriors import wishart,norm, dirichlet, simul_s, _Phi,order\n",
    "from models.simulation import simul_gauss"
   ]
  },
  {
   "cell_type": "markdown",
   "metadata": {},
   "source": [
    "# We will fit a two component gaussian HMM"
   ]
  },
  {
   "cell_type": "markdown",
   "metadata": {},
   "source": [
    "A k components gaussian HMM is made of :\n",
    "* A posterior `normal-inverse_wishart` distribution over $\\theta = (\\mu,\\Sigma) \\in IR^{kxd}xIR^{kxdxd}$; where $d$ = dim of the gaussian vectors\n",
    "* A posterior distribution over $S \\in IR^n$, the states vector; where $n = #obs$\n",
    "* A posterior `dirichlet` distribution over the transition matrix $P \\in IR^{kxk}$"
   ]
  },
  {
   "cell_type": "markdown",
   "metadata": {},
   "source": [
    "We start by defining the posterior of $\\theta = \\left(\\mu,\\Sigma\\right)$"
   ]
  },
  {
   "cell_type": "code",
   "execution_count": 5,
   "metadata": {},
   "outputs": [],
   "source": [
    "tDictDist = {\"mu\": norm(), \"omega_inv\": wishart()} # Note that, \\Omega^{-1} is simulated instead of \\Omega\n",
    "\n",
    "#Let set the default hyperparameters\n",
    "\n",
    "d = 2 # dim of our gaussian vectors\n",
    "\n",
    "nu = np.array([20, 20]) # Degree of freedoms of the prior of \\Omega\n",
    "omega_inv = 30*np.array([np.eye(d), np.eye(d)]) # Cov matrix of the prior of \\Omgea\n",
    "\n",
    "mu =  np.array([np.zeros(d), np.zeros(d)]) # Mean of the prior over  \\mu\n",
    "sigma = 30*np.array([np.eye(d), np.eye(d) ]) # Cov matrix of the prior over \\mu\n",
    "\n",
    "tDictDist[\"mu\"]._set_default( mu0 = mu, sigma0_inv = np.linalg.inv(sigma))\n",
    "tDictDist[\"omega_inv\"]._set_default(nu0 = nu, omega0_inv = omega_inv)"
   ]
  },
  {
   "cell_type": "markdown",
   "metadata": {},
   "source": [
    "Now, the **S** distribtuion ..."
   ]
  },
  {
   "cell_type": "code",
   "execution_count": 6,
   "metadata": {},
   "outputs": [],
   "source": [
    "sDist = simul_s(func = _Phi) # S distribution, _Phi2 is the model evidence ie p(y), here the pdf of a normal dist"
   ]
  },
  {
   "cell_type": "markdown",
   "metadata": {},
   "source": [
    "Now the $P$ distribution"
   ]
  },
  {
   "cell_type": "code",
   "execution_count": 7,
   "metadata": {},
   "outputs": [],
   "source": [
    "pDist = dirichlet() # A dirichlet distribution is common for probability vectors\n",
    "pDist._set_default(a = np.array([[1, 1], [1,1]])) # Set default shape params"
   ]
  },
  {
   "cell_type": "markdown",
   "metadata": {},
   "source": [
    "# The gaussian mixture on an artificial data"
   ]
  },
  {
   "cell_type": "markdown",
   "metadata": {},
   "source": [
    "Let's simulate an artificial gaussian mixture"
   ]
  },
  {
   "cell_type": "code",
   "execution_count": 8,
   "metadata": {},
   "outputs": [],
   "source": [
    "P0 = np.array([[0.33, 0.67], [0.85, 0.15]]) # the 'true' transition matrix\n",
    "mu0 = np.array([-5*np.ones(d), 5*np.ones(d)])# The 'true' means\n",
    "sigma0 = 10*np.array([np.eye(d), np.eye(d)]) # The true cov matrixes"
   ]
  },
  {
   "cell_type": "code",
   "execution_count": 9,
   "metadata": {},
   "outputs": [
    {
     "data": {
      "text/plain": [
       "(array([[-4.14309521, -9.24417071],\n",
       "        [-2.78816802, -4.95225116],\n",
       "        [ 9.31311187,  5.6780935 ],\n",
       "        [-0.9276668 , -1.7832614 ],\n",
       "        [-0.08108444,  3.59869743]]), array([0, 0, 1, 0, 1]))"
      ]
     },
     "execution_count": 9,
     "metadata": {},
     "output_type": "execute_result"
    }
   ],
   "source": [
    "y, S0 = simul_gauss(P0,mu0, sigma0, 500) # Simulate 500 sample of gaussian mixtures\n",
    "y[:5] , S0[:5] "
   ]
  },
  {
   "cell_type": "code",
   "execution_count": 10,
   "metadata": {},
   "outputs": [
    {
     "data": {
      "text/plain": [
       "<matplotlib.collections.PathCollection at 0x26eeebe1ac8>"
      ]
     },
     "execution_count": 10,
     "metadata": {},
     "output_type": "execute_result"
    },
    {
     "data": {
      "image/png": "[encoded data removed]",
      "text/plain": [
       "<Figure size 432x288 with 1 Axes>"
      ]
     },
     "metadata": {
      "needs_background": "light"
     },
     "output_type": "display_data"
    }
   ],
   "source": [
    "plt.scatter(y[:,0], y[:, 1])  # Our clusters"
   ]
  },
  {
   "cell_type": "markdown",
   "metadata": {},
   "source": [
    "Now, we're gonna define the gHMM"
   ]
  },
  {
   "cell_type": "code",
   "execution_count": 11,
   "metadata": {},
   "outputs": [],
   "source": [
    "Y = y # Obs\n",
    "S = np.random.choice(2, len(Y)) # First sample of states for the gibbs sampler\n",
    "P = np.array([[0.5,0.5],[0.5,0.5]]) # First sample of transition matrix\n",
    "mu =  np.array([ np.zeros(d), np.zeros(d) ]) # First sample of mu\n",
    "omega_inv =  np.array([np.eye(d),np.eye(d)])/30 # First sample of inv-cov matrix, any !\n",
    "Theta = {\"mu\": mu , \"omega_inv\": omega_inv } # Set first samples"
   ]
  },
  {
   "cell_type": "code",
   "execution_count": 12,
   "metadata": {},
   "outputs": [],
   "source": [
    "ghmm = HMM(tDictDist, sDist, pDist, Y=Y, S = S , Theta = Theta, P = P )"
   ]
  },
  {
   "cell_type": "code",
   "execution_count": 13,
   "metadata": {},
   "outputs": [],
   "source": [
    "ghmm.run(250) # Start the gibbs sampler n-times"
   ]
  },
  {
   "cell_type": "markdown",
   "metadata": {},
   "source": [
    "# Can we recover the true clusters ? Let's see !"
   ]
  },
  {
   "cell_type": "code",
   "execution_count": 14,
   "metadata": {},
   "outputs": [
    {
     "data": {
      "text/plain": [
       "<matplotlib.collections.PathCollection at 0x26eefed9cf8>"
      ]
     },
     "execution_count": 14,
     "metadata": {},
     "output_type": "execute_result"
    },
    {
     "data": {
      "image/png": "[encoded data removed]",
      "text/plain": [
       "<Figure size 432x288 with 1 Axes>"
      ]
     },
     "metadata": {
      "needs_background": "light"
     },
     "output_type": "display_data"
    }
   ],
   "source": [
    "plt.scatter(Y[:,0], Y[:,1], c= ghmm.S)"
   ]
  },
  {
   "cell_type": "code",
   "execution_count": 15,
   "metadata": {},
   "outputs": [
    {
     "data": {
      "text/plain": [
       "0.012"
      ]
     },
     "execution_count": 15,
     "metadata": {},
     "output_type": "execute_result"
    }
   ],
   "source": [
    "(ghmm.sDist.rvs() == S0).mean() # Precision or Error rate"
   ]
  },
  {
   "cell_type": "code",
   "execution_count": 16,
   "metadata": {},
   "outputs": [
    {
     "data": {
      "text/plain": [
       "array([1, 1, 0, 1, 0, 1, 0, 1, 0, 1], dtype=int64)"
      ]
     },
     "execution_count": 16,
     "metadata": {},
     "output_type": "execute_result"
    }
   ],
   "source": [
    "# Instead for taking just the last sample as prediction, we can compute the \n",
    "# mode of predicted states for each data point\n",
    "Sgmm = np.array(ghmm.H[\"S\"][-50:]) # We just consider latest steps in our simulation\n",
    "Sgmm = np.apply_along_axis(np.bincount, 0, Sgmm, minlength = 2 )\n",
    "Sgmm = Sgmm.argmax(0)\n",
    "Sgmm[:10]"
   ]
  },
  {
   "cell_type": "code",
   "execution_count": 17,
   "metadata": {},
   "outputs": [
    {
     "data": {
      "text/plain": [
       "0.01"
      ]
     },
     "execution_count": 17,
     "metadata": {},
     "output_type": "execute_result"
    }
   ],
   "source": [
    "(Sgmm == S0 ).mean() # Mean Precision or Error rate"
   ]
  },
  {
   "cell_type": "code",
   "execution_count": 18,
   "metadata": {},
   "outputs": [
    {
     "data": {
      "text/plain": [
       "array([[ 4.75995762,  4.72485147],\n",
       "       [-4.78282115, -4.74736047]])"
      ]
     },
     "execution_count": 18,
     "metadata": {},
     "output_type": "execute_result"
    }
   ],
   "source": [
    "ghmm.tDictDist[\"mu\"].rvs() # We can sample mu & omega distribution"
   ]
  },
  {
   "cell_type": "code",
   "execution_count": 19,
   "metadata": {},
   "outputs": [
    {
     "data": {
      "text/plain": [
       "array([[[ 7.81, -0.38],\n",
       "        [-0.38,  9.52]],\n",
       "\n",
       "       [[ 8.63, -0.03],\n",
       "        [-0.03, 10.75]]])"
      ]
     },
     "execution_count": 19,
     "metadata": {},
     "output_type": "execute_result"
    }
   ],
   "source": [
    "np.linalg.inv(ghmm.tDictDist[\"omega_inv\"].rvs()).round(2) # Sample of estimated cov (omega)"
   ]
  },
  {
   "cell_type": "code",
   "execution_count": 20,
   "metadata": {
    "scrolled": true
   },
   "outputs": [
    {
     "data": {
      "text/plain": [
       "array([[ 4.83675767,  4.4819742 ],\n",
       "       [-4.74517552, -4.92864973]])"
      ]
     },
     "execution_count": 20,
     "metadata": {},
     "output_type": "execute_result"
    }
   ],
   "source": [
    "np.array([history[\"mu\"] for history in ghmm.H[\"Theta\"][-50::]]).mean(0) # Mean predicted value for mu"
   ]
  },
  {
   "cell_type": "code",
   "execution_count": 21,
   "metadata": {},
   "outputs": [
    {
     "data": {
      "text/plain": [
       "array([[0.13238211, 0.86761789],\n",
       "       [0.65651527, 0.34348473]])"
      ]
     },
     "execution_count": 21,
     "metadata": {},
     "output_type": "execute_result"
    }
   ],
   "source": [
    "np.array(ghmm.H[\"P\"][-50::]).mean(0) # Mean transition matrix"
   ]
  },
  {
   "cell_type": "markdown",
   "metadata": {},
   "source": [
    "###  Comparison with Kmeans"
   ]
  },
  {
   "cell_type": "code",
   "execution_count": 22,
   "metadata": {},
   "outputs": [],
   "source": [
    "from sklearn.cluster import KMeans"
   ]
  },
  {
   "cell_type": "code",
   "execution_count": 23,
   "metadata": {},
   "outputs": [],
   "source": [
    "km = KMeans(n_clusters= 2)"
   ]
  },
  {
   "cell_type": "code",
   "execution_count": 24,
   "metadata": {},
   "outputs": [
    {
     "data": {
      "text/plain": [
       "KMeans(algorithm='auto', copy_x=True, init='k-means++', max_iter=300,\n",
       "    n_clusters=2, n_init=10, n_jobs=1, precompute_distances='auto',\n",
       "    random_state=None, tol=0.0001, verbose=0)"
      ]
     },
     "execution_count": 24,
     "metadata": {},
     "output_type": "execute_result"
    }
   ],
   "source": [
    "km.fit(Y)"
   ]
  },
  {
   "cell_type": "code",
   "execution_count": 25,
   "metadata": {},
   "outputs": [
    {
     "data": {
      "text/plain": [
       "0.99"
      ]
     },
     "execution_count": 25,
     "metadata": {},
     "output_type": "execute_result"
    }
   ],
   "source": [
    "(km.labels_ == S0).mean() # Error or precision rate"
   ]
  },
  {
   "cell_type": "markdown",
   "metadata": {},
   "source": [
    "# Comparison with simple gaussian mixtures"
   ]
  },
  {
   "cell_type": "code",
   "execution_count": 26,
   "metadata": {},
   "outputs": [],
   "source": [
    "from sklearn.mixture import GaussianMixture"
   ]
  },
  {
   "cell_type": "code",
   "execution_count": 27,
   "metadata": {},
   "outputs": [
    {
     "data": {
      "text/plain": [
       "GaussianMixture(covariance_type='diag', init_params='kmeans', max_iter=100,\n",
       "        means_init=None, n_components=2, n_init=1, precisions_init=None,\n",
       "        random_state=None, reg_covar=1e-06, tol=0.001, verbose=0,\n",
       "        verbose_interval=10, warm_start=False, weights_init=None)"
      ]
     },
     "execution_count": 27,
     "metadata": {},
     "output_type": "execute_result"
    }
   ],
   "source": [
    "gm = GaussianMixture(n_components= 2, covariance_type= \"diag\", max_iter= 100)\n",
    "gm.fit(y)"
   ]
  },
  {
   "cell_type": "code",
   "execution_count": 28,
   "metadata": {},
   "outputs": [
    {
     "data": {
      "text/plain": [
       "0.99"
      ]
     },
     "execution_count": 28,
     "metadata": {},
     "output_type": "execute_result"
    }
   ],
   "source": [
    "(gm.predict(y) == S0).mean() # Error or precision rate"
   ]
  }
 ],
 "metadata": {
  "kernelspec": {
   "display_name": "Python 3",
   "language": "python",
   "name": "python3"
  },
  "language_info": {
   "codemirror_mode": {
    "name": "ipython",
    "version": 3
   },
   "file_extension": ".py",
   "mimetype": "text/x-python",
   "name": "python",
   "nbconvert_exporter": "python",
   "pygments_lexer": "ipython3",
   "version": "3.7.0"
  }
 },
 "nbformat": 4,
 "nbformat_minor": 2
}
