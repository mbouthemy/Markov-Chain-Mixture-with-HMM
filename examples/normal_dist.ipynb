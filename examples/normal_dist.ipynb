{
 "cells": [
  {
   "cell_type": "code",
   "execution_count": 49,
   "metadata": {},
   "outputs": [],
   "source": [
    "import numpy as np"
   ]
  },
  {
   "cell_type": "code",
   "execution_count": 50,
   "metadata": {},
   "outputs": [],
   "source": [
    "from posteriors import norm"
   ]
  },
  {
   "cell_type": "markdown",
   "metadata": {},
   "source": [
    "# Normal distribution"
   ]
  },
  {
   "cell_type": "code",
   "execution_count": 51,
   "metadata": {},
   "outputs": [],
   "source": [
    "mu1 = np.array([1,1, 1])\n",
    "mu2 = np.array([10,10, 10])\n",
    "sigma1 = np.array([[1,0, 0], [0,1, 0], [0,0,1]])\n",
    "sigma2 = np.array([[10,0,0], [0,10,0], [0,0,10]])\n",
    "\n",
    "mu = np.array([mu1, mu2])\n",
    "sigma = np.array([sigma1, sigma2])"
   ]
  },
  {
   "cell_type": "code",
   "execution_count": 86,
   "metadata": {},
   "outputs": [],
   "source": [
    "mu_start = np.zeros((2,3))\n",
    "sigma_start = [30*np.eye(3), 30*np.eye(3)]\n",
    "normal = norm(mu = mu_start , sigma = sigma_start,\n",
    "              mu0 = mu_start, sigma0_inv = np.linalg.inv(sigma_start))"
   ]
  },
  {
   "cell_type": "code",
   "execution_count": 87,
   "metadata": {},
   "outputs": [
    {
     "name": "stdout",
     "output_type": "stream",
     "text": [
      "{'mu': array([[0., 0., 0.],\n",
      "       [0., 0., 0.]]), 'sigma': [array([[30.,  0.,  0.],\n",
      "       [ 0., 30.,  0.],\n",
      "       [ 0.,  0., 30.]]), array([[30.,  0.,  0.],\n",
      "       [ 0., 30.,  0.],\n",
      "       [ 0.,  0., 30.]])]}\n"
     ]
    }
   ],
   "source": [
    "print(normal.params)"
   ]
  },
  {
   "cell_type": "code",
   "execution_count": 88,
   "metadata": {},
   "outputs": [
    {
     "data": {
      "text/plain": [
       "{'mu0': array([[0., 0., 0.],\n",
       "        [0., 0., 0.]]),\n",
       " 'sigma0_inv': array([[[0.03333333, 0.        , 0.        ],\n",
       "         [0.        , 0.03333333, 0.        ],\n",
       "         [0.        , 0.        , 0.03333333]],\n",
       " \n",
       "        [[0.03333333, 0.        , 0.        ],\n",
       "         [0.        , 0.03333333, 0.        ],\n",
       "         [0.        , 0.        , 0.03333333]]])}"
      ]
     },
     "execution_count": 88,
     "metadata": {},
     "output_type": "execute_result"
    }
   ],
   "source": [
    "normal.default"
   ]
  },
  {
   "cell_type": "code",
   "execution_count": 89,
   "metadata": {},
   "outputs": [
    {
     "data": {
      "text/plain": [
       "<module 'simulation' from '/home/nerk/Documents/3A_ENSAE/stat_bay/simulation.py'>"
      ]
     },
     "execution_count": 89,
     "metadata": {},
     "output_type": "execute_result"
    }
   ],
   "source": [
    "from simulation import simul_gauss\n",
    "from matplotlib import pyplot as plt\n",
    "%matplotlib inline\n",
    "\n",
    "import importlib, simulation\n",
    "importlib.reload(simulation)"
   ]
  },
  {
   "cell_type": "code",
   "execution_count": 90,
   "metadata": {},
   "outputs": [],
   "source": [
    "P = np.array([ [0.4,0.6],\n",
    "             [0.8, 0.2]])"
   ]
  },
  {
   "cell_type": "code",
   "execution_count": 91,
   "metadata": {},
   "outputs": [],
   "source": [
    "y, S = simul_gauss(P, mu, sigma, 1000)"
   ]
  },
  {
   "cell_type": "code",
   "execution_count": 92,
   "metadata": {},
   "outputs": [
    {
     "data": {
      "text/plain": [
       "(array([[ 1.82904611, -0.21703238,  1.55860093],\n",
       "        [ 1.62111094,  1.49131976, -0.21821008],\n",
       "        [ 0.7528601 ,  2.10744873,  1.06137029]]), array([0, 0, 0]))"
      ]
     },
     "execution_count": 92,
     "metadata": {},
     "output_type": "execute_result"
    }
   ],
   "source": [
    "y[:3], S[:3]"
   ]
  },
  {
   "cell_type": "code",
   "execution_count": 93,
   "metadata": {},
   "outputs": [
    {
     "data": {
      "text/plain": [
       "<matplotlib.collections.PathCollection at 0x7f5e16abb1d0>"
      ]
     },
     "execution_count": 93,
     "metadata": {},
     "output_type": "execute_result"
    },
    {
     "data": {
      "image/png": "[encoded data removed]",
      "text/plain": [
       "<Figure size 432x288 with 1 Axes>"
      ]
     },
     "metadata": {
      "needs_background": "light"
     },
     "output_type": "display_data"
    }
   ],
   "source": [
    "plt.scatter(y[:,0], y[:, 1])"
   ]
  },
  {
   "cell_type": "code",
   "execution_count": 94,
   "metadata": {},
   "outputs": [
    {
     "data": {
      "text/plain": [
       "(array([4.86524976, 4.93080922, 4.98973416]),\n",
       " array([24.39829178, 24.93978821, 24.88445657]))"
      ]
     },
     "execution_count": 94,
     "metadata": {},
     "output_type": "execute_result"
    }
   ],
   "source": [
    "y.mean(0), np.var(y, 0)"
   ]
  },
  {
   "cell_type": "code",
   "execution_count": 95,
   "metadata": {},
   "outputs": [],
   "source": [
    "v = y[S==1]"
   ]
  },
  {
   "cell_type": "code",
   "execution_count": 96,
   "metadata": {},
   "outputs": [
    {
     "data": {
      "text/plain": [
       "array([[ 1.18081216, -3.98658754,  5.31489549],\n",
       "       [ 0.63526864,  2.16042818,  0.80697656],\n",
       "       [-0.44947454, -5.34297295,  0.90994052],\n",
       "       ...,\n",
       "       [ 2.27661226, -1.26411807,  2.95332451],\n",
       "       [-0.65039292,  0.51216113, -1.11225957],\n",
       "       [-5.08308655,  2.20925698,  3.59392486]])"
      ]
     },
     "execution_count": 96,
     "metadata": {},
     "output_type": "execute_result"
    }
   ],
   "source": [
    "u = v - v.mean(0)\n",
    "u"
   ]
  },
  {
   "cell_type": "code",
   "execution_count": 97,
   "metadata": {},
   "outputs": [
    {
     "data": {
      "text/plain": [
       "array([10.24740797, 10.45667158, 10.05230497])"
      ]
     },
     "execution_count": 97,
     "metadata": {},
     "output_type": "execute_result"
    }
   ],
   "source": [
    "np.var(u,0)"
   ]
  },
  {
   "cell_type": "code",
   "execution_count": 98,
   "metadata": {},
   "outputs": [
    {
     "data": {
      "text/plain": [
       "array([[10.24740797,  0.14967305, -0.32384829],\n",
       "       [ 0.14967305, 10.45667158,  0.79314735],\n",
       "       [-0.32384829,  0.79314735, 10.05230497]])"
      ]
     },
     "execution_count": 98,
     "metadata": {},
     "output_type": "execute_result"
    }
   ],
   "source": [
    "u.transpose()@u/len(u)"
   ]
  },
  {
   "cell_type": "markdown",
   "metadata": {},
   "source": [
    "## Update the model, given observations"
   ]
  },
  {
   "cell_type": "code",
   "execution_count": 99,
   "metadata": {},
   "outputs": [
    {
     "data": {
      "text/plain": [
       "array([[24.42, 19.62, 19.52],\n",
       "       [19.62, 24.96, 20.16],\n",
       "       [19.52, 20.16, 24.91]])"
      ]
     },
     "execution_count": 99,
     "metadata": {},
     "output_type": "execute_result"
    }
   ],
   "source": [
    "np.round(np.cov(y, rowvar = False), 2)"
   ]
  },
  {
   "cell_type": "code",
   "execution_count": 100,
   "metadata": {},
   "outputs": [],
   "source": [
    "Theta = {\"omega_inv\": np.linalg.inv(sigma_start)} #Define the covariance's posterior attribute"
   ]
  },
  {
   "cell_type": "code",
   "execution_count": 101,
   "metadata": {},
   "outputs": [],
   "source": [
    "normal.update(Y= y,S= S, Theta = Theta)"
   ]
  },
  {
   "cell_type": "code",
   "execution_count": 102,
   "metadata": {},
   "outputs": [
    {
     "data": {
      "text/plain": [
       "array([[0., 0., 0.],\n",
       "       [0., 0., 0.]])"
      ]
     },
     "execution_count": 102,
     "metadata": {},
     "output_type": "execute_result"
    }
   ],
   "source": [
    "normal.default[\"mu0\"]"
   ]
  },
  {
   "cell_type": "code",
   "execution_count": 103,
   "metadata": {},
   "outputs": [
    {
     "data": {
      "text/plain": [
       "{'mu': array([[0.9640347 , 0.99152787, 1.03522859],\n",
       "        [9.80595533, 9.91964193, 9.99766648]]),\n",
       " 'sigma': array([[[0.05347594, 0.        , 0.        ],\n",
       "         [0.        , 0.05347594, 0.        ],\n",
       "         [0.        , 0.        , 0.05347594]],\n",
       " \n",
       "        [[0.06802721, 0.        , 0.        ],\n",
       "         [0.        , 0.06802721, 0.        ],\n",
       "         [0.        , 0.        , 0.06802721]]])}"
      ]
     },
     "execution_count": 103,
     "metadata": {},
     "output_type": "execute_result"
    }
   ],
   "source": [
    "normal.params"
   ]
  },
  {
   "cell_type": "code",
   "execution_count": null,
   "metadata": {},
   "outputs": [],
   "source": []
  }
 ],
 "metadata": {
  "kernelspec": {
   "display_name": "Python 3",
   "language": "python",
   "name": "python3"
  },
  "language_info": {
   "codemirror_mode": {
    "name": "ipython",
    "version": 3
   },
   "file_extension": ".py",
   "mimetype": "text/x-python",
   "name": "python",
   "nbconvert_exporter": "python",
   "pygments_lexer": "ipython3",
   "version": "3.7.0"
  }
 },
 "nbformat": 4,
 "nbformat_minor": 2
}
