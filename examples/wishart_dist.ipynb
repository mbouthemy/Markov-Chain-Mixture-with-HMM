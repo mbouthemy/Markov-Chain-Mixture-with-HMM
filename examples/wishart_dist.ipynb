{
 "cells": [
  {
   "cell_type": "code",
   "execution_count": 1,
   "metadata": {},
   "outputs": [],
   "source": [
    "import numpy as np\n",
    "from posteriors import wishart # The wishart posterior distribution\n",
    "from simulation import simul_gauss # Simulate a gaussian MMM\n",
    "from matplotlib import pyplot as plt\n",
    "%matplotlib inline"
   ]
  },
  {
   "cell_type": "markdown",
   "metadata": {},
   "source": [
    "# Wishart distribution"
   ]
  },
  {
   "cell_type": "code",
   "execution_count": null,
   "metadata": {},
   "outputs": [],
   "source": []
  },
  {
   "cell_type": "code",
   "execution_count": 17,
   "metadata": {},
   "outputs": [],
   "source": [
    "omega_start = np.array([np.eye(3)/30, np.eye(3)/30]) # Prior mean for the population cov matrix\n",
    "nu_start = np.array([100, 100]) # Prior degree of freedom"
   ]
  },
  {
   "cell_type": "code",
   "execution_count": 18,
   "metadata": {},
   "outputs": [],
   "source": [
    "wish = wishart(nu = nu_start, omega = omega_start, nu0 = nu_start, omega0_inv = np.linalg.inv(omega_start) )"
   ]
  },
  {
   "cell_type": "code",
   "execution_count": 19,
   "metadata": {},
   "outputs": [
    {
     "name": "stdout",
     "output_type": "stream",
     "text": [
      "{'nu': array([100, 100]), 'omega': array([[[0.03333333, 0.        , 0.        ],\n",
      "        [0.        , 0.03333333, 0.        ],\n",
      "        [0.        , 0.        , 0.03333333]],\n",
      "\n",
      "       [[0.03333333, 0.        , 0.        ],\n",
      "        [0.        , 0.03333333, 0.        ],\n",
      "        [0.        , 0.        , 0.03333333]]])}\n"
     ]
    }
   ],
   "source": [
    "print(wish.params)"
   ]
  },
  {
   "cell_type": "code",
   "execution_count": 20,
   "metadata": {},
   "outputs": [
    {
     "data": {
      "text/plain": [
       "{'nu0': array([100, 100]), 'omega0_inv': array([[[30.,  0.,  0.],\n",
       "         [ 0., 30.,  0.],\n",
       "         [ 0.,  0., 30.]],\n",
       " \n",
       "        [[30.,  0.,  0.],\n",
       "         [ 0., 30.,  0.],\n",
       "         [ 0.,  0., 30.]]])}"
      ]
     },
     "execution_count": 20,
     "metadata": {},
     "output_type": "execute_result"
    }
   ],
   "source": [
    "wish.default"
   ]
  },
  {
   "cell_type": "markdown",
   "metadata": {},
   "source": [
    "## Let's simulate now a gaussian mixture"
   ]
  },
  {
   "cell_type": "markdown",
   "metadata": {},
   "source": [
    "Our mixture is made of two gaussian components\n",
    "* Each component has its own `mean` and `cov matrix`\n",
    "* The means are assumed to be gaussian\n",
    "* The covariance matrix are assumed to be distributed as an invert-wishart random variable"
   ]
  },
  {
   "cell_type": "code",
   "execution_count": 21,
   "metadata": {},
   "outputs": [],
   "source": [
    "# Define the population true parameters\n",
    "mu1 = np.array([1,1, 1]) # First component's true mean\n",
    "mu2 = np.array([10,10, 10]) # Second component's true mean\n",
    "sigma1 = np.array([[1,0, 0], [0,1, 0], [0,0,1]]) # First component's true covariance matrix\n",
    "sigma2 = np.array([[10,0,0], [0,10,0], [0,0,10]]) # Second component's true covariance matrix\n",
    "\n",
    "mu = np.array([mu1, mu2]) # List of the two \"means\"\n",
    "sigma = np.array([sigma1, sigma2]) # List of the two covariances"
   ]
  },
  {
   "cell_type": "code",
   "execution_count": null,
   "metadata": {},
   "outputs": [],
   "source": []
  },
  {
   "cell_type": "markdown",
   "metadata": {},
   "source": [
    "### To be able to simulate our Markov Switching Gaussian Mixture, we need to define a transition matrix"
   ]
  },
  {
   "cell_type": "code",
   "execution_count": 22,
   "metadata": {},
   "outputs": [],
   "source": [
    "P = np.array([ [0.4,0.6],\n",
    "             [0.8, 0.2]]) # The transition matrix"
   ]
  },
  {
   "cell_type": "code",
   "execution_count": 23,
   "metadata": {},
   "outputs": [],
   "source": [
    "y, S = simul_gauss(P, mu, sigma, 1000) # Simlate 1000 samples of a 3-D gaussian `Markov Mixed Model`"
   ]
  },
  {
   "cell_type": "code",
   "execution_count": 24,
   "metadata": {},
   "outputs": [
    {
     "data": {
      "text/plain": [
       "(array([[ 1.43833962e+01,  1.21200536e+01,  9.00144125e+00],\n",
       "        [ 1.27146157e-01, -6.07960457e-02, -1.28388068e-02],\n",
       "        [ 1.06665114e+01,  1.11230814e+01,  1.42073478e+01]]),\n",
       " array([1, 0, 1]))"
      ]
     },
     "execution_count": 24,
     "metadata": {},
     "output_type": "execute_result"
    }
   ],
   "source": [
    "y[:3], S[:3]"
   ]
  },
  {
   "cell_type": "code",
   "execution_count": 25,
   "metadata": {},
   "outputs": [
    {
     "data": {
      "text/plain": [
       "<matplotlib.collections.PathCollection at 0x7f0bcf27c0f0>"
      ]
     },
     "execution_count": 25,
     "metadata": {},
     "output_type": "execute_result"
    },
    {
     "data": {
      "image/png": "[encoded data removed]",
      "text/plain": [
       "<Figure size 432x288 with 1 Axes>"
      ]
     },
     "metadata": {
      "needs_background": "light"
     },
     "output_type": "display_data"
    }
   ],
   "source": [
    "plt.scatter(y[:,0], y[:, 1]) # We can see that our clusters are  clearly distinct"
   ]
  },
  {
   "cell_type": "code",
   "execution_count": 26,
   "metadata": {},
   "outputs": [
    {
     "data": {
      "text/plain": [
       "(array([4.87644303, 4.94456899, 4.84622733]),\n",
       " array([25.068971  , 25.7891939 , 24.64853047]))"
      ]
     },
     "execution_count": 26,
     "metadata": {},
     "output_type": "execute_result"
    }
   ],
   "source": [
    "y.mean(0), np.var(y, 0) # Take a look on the sample mean, Is it closer to the 'true' mean ?"
   ]
  },
  {
   "cell_type": "markdown",
   "metadata": {},
   "source": [
    "## Now, let's update the model, given observations ==> Can we recover the true `covariance matrix `?"
   ]
  },
  {
   "cell_type": "code",
   "execution_count": 27,
   "metadata": {},
   "outputs": [],
   "source": [
    "Theta = {\"mu\": mu} # Define here, one sample from the posterior distribution of the 'mean'"
   ]
  },
  {
   "cell_type": "code",
   "execution_count": 28,
   "metadata": {},
   "outputs": [],
   "source": [
    "wish.update(Y= y,S= S, Theta = Theta)"
   ]
  },
  {
   "cell_type": "code",
   "execution_count": 29,
   "metadata": {},
   "outputs": [
    {
     "data": {
      "text/plain": [
       "array([100, 100])"
      ]
     },
     "execution_count": 29,
     "metadata": {},
     "output_type": "execute_result"
    }
   ],
   "source": [
    "wish.default[\"nu0\"]"
   ]
  },
  {
   "cell_type": "code",
   "execution_count": 30,
   "metadata": {},
   "outputs": [
    {
     "data": {
      "text/plain": [
       "{'nu': array([672, 528]),\n",
       " 'omega': array([[[ 1.47040468e-03, -7.14474976e-05, -8.75496774e-05],\n",
       "         [-7.14474976e-05,  1.70711640e-03, -1.25640007e-05],\n",
       "         [-8.75496774e-05, -1.25640007e-05,  1.70125544e-03]],\n",
       " \n",
       "        [[ 2.34415949e-04, -2.16597116e-06,  2.04372745e-05],\n",
       "         [-2.16597116e-06,  2.21747334e-04, -2.19431098e-05],\n",
       "         [ 2.04372745e-05, -2.19431098e-05,  2.29851694e-04]]])}"
      ]
     },
     "execution_count": 30,
     "metadata": {},
     "output_type": "execute_result"
    }
   ],
   "source": [
    "wish.params # Updated paramters"
   ]
  },
  {
   "cell_type": "markdown",
   "metadata": {},
   "source": [
    "### Below, we can see that we get a pretty good estimate distribution of the cov matrix, from which we cample sample by cally `.rvs`"
   ]
  },
  {
   "cell_type": "code",
   "execution_count": 31,
   "metadata": {},
   "outputs": [
    {
     "data": {
      "text/plain": [
       "array([[[ 1.05,  0.05,  0.01],\n",
       "        [ 0.05,  0.83, -0.01],\n",
       "        [ 0.01, -0.01,  0.86]],\n",
       "\n",
       "       [[ 8.39, -0.29, -0.42],\n",
       "        [-0.29,  8.73,  1.27],\n",
       "        [-0.42,  1.27,  7.81]]])"
      ]
     },
     "execution_count": 31,
     "metadata": {},
     "output_type": "execute_result"
    }
   ],
   "source": [
    "np.linalg.inv(wish.rvs()).round(2) # A pretty good estimation of the covariance matrix after, only, one update"
   ]
  },
  {
   "cell_type": "code",
   "execution_count": null,
   "metadata": {},
   "outputs": [],
   "source": []
  }
 ],
 "metadata": {
  "kernelspec": {
   "display_name": "Python 3",
   "language": "python",
   "name": "python3"
  },
  "language_info": {
   "codemirror_mode": {
    "name": "ipython",
    "version": 3
   },
   "file_extension": ".py",
   "mimetype": "text/x-python",
   "name": "python",
   "nbconvert_exporter": "python",
   "pygments_lexer": "ipython3",
   "version": "3.7.0"
  }
 },
 "nbformat": 4,
 "nbformat_minor": 2
}
