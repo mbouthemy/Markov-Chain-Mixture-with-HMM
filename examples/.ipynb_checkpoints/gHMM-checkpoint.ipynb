{
 "cells": [
  {
   "cell_type": "markdown",
   "metadata": {},
   "source": [
    "# Gaussian Hidden Markov Models"
   ]
  },
  {
   "cell_type": "code",
   "execution_count": 4,
   "metadata": {},
   "outputs": [
    {
     "name": "stdout",
     "output_type": "stream",
     "text": [
      "/home/nerk/Documents/3A_ENSAE/stat_bay\n"
     ]
    }
   ],
   "source": [
    "# Set your working directory\n",
    "%cd \"~/Documents/3A_ENSAE/stat_bay\" "
   ]
  },
  {
   "cell_type": "code",
   "execution_count": 7,
   "metadata": {},
   "outputs": [],
   "source": [
    "import numpy as np\n",
    "from matplotlib import pyplot as plt\n",
    "%matplotlib inline"
   ]
  },
  {
   "cell_type": "code",
   "execution_count": 8,
   "metadata": {},
   "outputs": [],
   "source": [
    "from models.HMM import HMM\n",
    "from models.posteriors import wishart,norm, dirichlet, simul_s, _Phi,order\n",
    "from models.simulation import simul_gauss"
   ]
  },
  {
   "cell_type": "markdown",
   "metadata": {},
   "source": [
    "# We will fit a two component gaussian HMM"
   ]
  },
  {
   "cell_type": "markdown",
   "metadata": {},
   "source": [
    "A 2 components gaussian HMM is made of :\n",
    "* A posterior `normal-inverse_wishart` distribution over $\\theta = (\\mu,\\Sigma) \\in IR^{2xd}xIR^{2xdxd}$; where $d$ = dim of the gaussian vectors\n",
    "* A posterior distribution over $S \\in IR^n$, the states vector; where $n = #obs$\n",
    "* A posterior `dirichlet` distribution over the transition matrix $P \\in IR^{2x2}$"
   ]
  },
  {
   "cell_type": "markdown",
   "metadata": {},
   "source": [
    "We start by defining the posterior of $\\theta = \\left(\\mu,\\Sigma\\right)$"
   ]
  },
  {
   "cell_type": "code",
   "execution_count": 9,
   "metadata": {},
   "outputs": [],
   "source": [
    "tDictDist = {\"mu\": norm(), \"omega_inv\": wishart()} # Note that, \\0mega^{-1} is simulated instead \\Omega\n",
    "\n",
    "#Let set the default parameters\n",
    "\n",
    "d = 3 # dim of our gaussian vectors\n",
    "\n",
    "nu = np.array([20, 20]) # Degree of freedoms of the prior of \\Omega\n",
    "omega_inv = 30*np.array([np.eye(d), np.eye(d)]) # Cov matrix of the prior of \\Omgea\n",
    "\n",
    "mu =  np.array([np.zeros(d), np.zeros(d)]) # Mean of the prior over  \\mu\n",
    "sigma = 30*np.array([np.eye(d), np.eye(d) ]) # Cov matrix of the prior over \\mu\n",
    "\n",
    "tDictDist[\"mu\"]._set_default( mu0 = mu, sigma0_inv = np.linalg.inv(sigma))\n",
    "tDictDist[\"omega_inv\"]._set_default(nu0 = nu, omega0_inv = omega_inv)\n",
    "tDictDist[\"mu\"]._set( mu = mu, sigma_inv = sigma)\n",
    "tDictDist[\"omega_inv\"]._set(nu = nu, omega_inv = omega_inv)"
   ]
  },
  {
   "cell_type": "markdown",
   "metadata": {},
   "source": [
    "Now, the **S** distribtuion ..."
   ]
  },
  {
   "cell_type": "code",
   "execution_count": null,
   "metadata": {},
   "outputs": [],
   "source": []
  },
  {
   "cell_type": "code",
   "execution_count": 10,
   "metadata": {},
   "outputs": [],
   "source": [
    "sDist = simul_s(func = _Phi) # S distribution"
   ]
  },
  {
   "cell_type": "markdown",
   "metadata": {},
   "source": [
    "Now the $P$ distribution"
   ]
  },
  {
   "cell_type": "code",
   "execution_count": 11,
   "metadata": {},
   "outputs": [],
   "source": [
    "pDist = dirichlet() # A dirichlet distribution is common for probability vectors\n",
    "pDist._set(a = np.array([[0.5, 0.5], [0.5,0.5]]))"
   ]
  },
  {
   "cell_type": "code",
   "execution_count": 12,
   "metadata": {},
   "outputs": [
    {
     "data": {
      "text/plain": [
       "{'a': 1}"
      ]
     },
     "execution_count": 12,
     "metadata": {},
     "output_type": "execute_result"
    }
   ],
   "source": [
    "pDist.default"
   ]
  },
  {
   "cell_type": "markdown",
   "metadata": {},
   "source": [
    "# The gaussian mixture on an artificial data"
   ]
  },
  {
   "cell_type": "markdown",
   "metadata": {},
   "source": [
    "Let's simulate an artificial gaussian mixture"
   ]
  },
  {
   "cell_type": "code",
   "execution_count": 15,
   "metadata": {},
   "outputs": [],
   "source": [
    "P0 = np.array([[0.2, 0.8], [0.6, 0.4]]) # the 'true' transition matrix\n",
    "mu0 = np.array([-5*np.ones(d), 5*np.ones(d)])# The 'true' means\n",
    "sigma0 = 5*np.array([np.eye(d), np.eye(d)]) # The true cov matrixes"
   ]
  },
  {
   "cell_type": "code",
   "execution_count": 16,
   "metadata": {},
   "outputs": [
    {
     "data": {
      "text/plain": [
       "(array([[-3.93758664, -8.44013307, -5.35859075],\n",
       "        [ 5.3162485 ,  1.34634474,  7.21849597],\n",
       "        [ 5.62410978,  5.71392001,  6.54080485],\n",
       "        [-3.57079522, -7.76174049, -2.30592992],\n",
       "        [ 5.45025237,  4.13593958,  5.76318178]]), array([0, 1, 1, 0, 1]))"
      ]
     },
     "execution_count": 16,
     "metadata": {},
     "output_type": "execute_result"
    }
   ],
   "source": [
    "y, S0 = simul_gauss(P0,mu0, sigma0, 500) # Simulate 500 sample of poisson mixtures\n",
    "y[:5] , S0[:5] "
   ]
  },
  {
   "cell_type": "code",
   "execution_count": 17,
   "metadata": {},
   "outputs": [
    {
     "data": {
      "text/plain": [
       "<matplotlib.collections.PathCollection at 0x7fa0162be860>"
      ]
     },
     "execution_count": 17,
     "metadata": {},
     "output_type": "execute_result"
    },
    {
     "data": {
      "image/png": "[encoded data removed]",
      "text/plain": [
       "<Figure size 432x288 with 1 Axes>"
      ]
     },
     "metadata": {
      "needs_background": "light"
     },
     "output_type": "display_data"
    }
   ],
   "source": [
    "plt.scatter(y[:,0], y[:, 1])  # Our clusters"
   ]
  },
  {
   "cell_type": "markdown",
   "metadata": {},
   "source": [
    "Now, we're gonna define the gHMM"
   ]
  },
  {
   "cell_type": "code",
   "execution_count": 18,
   "metadata": {},
   "outputs": [],
   "source": [
    "Y = y # Obs\n",
    "S = np.random.choice(2, len(Y)) # Initial states\n",
    "P = np.array([[0.5,0.5],[0.5,0.5]]) # Initial transition matrix\n",
    "mu =  np.array([ np.zeros(d), np.zeros(d) ]) # Inital 'mean'\n",
    "omega_inv =  np.array([np.eye(d),np.eye(d)])/30 # Initial cov matrix, any !\n",
    "Theta = {\"mu\": mu , \"omega_inv\": omega_inv } # Inital parameters sample"
   ]
  },
  {
   "cell_type": "code",
   "execution_count": 19,
   "metadata": {},
   "outputs": [],
   "source": [
    "ghmm = HMM(tDictDist, sDist, pDist, Y=Y, S = S , Theta = Theta, P = P )"
   ]
  },
  {
   "cell_type": "code",
   "execution_count": 20,
   "metadata": {},
   "outputs": [],
   "source": [
    "ghmm.run(50) # Start the gibbs sampler n-times"
   ]
  },
  {
   "cell_type": "markdown",
   "metadata": {},
   "source": [
    "# Can we recover the true clusters ? Let's see !"
   ]
  },
  {
   "cell_type": "code",
   "execution_count": 21,
   "metadata": {},
   "outputs": [
    {
     "data": {
      "text/plain": [
       "<matplotlib.collections.PathCollection at 0x7fa015493390>"
      ]
     },
     "execution_count": 21,
     "metadata": {},
     "output_type": "execute_result"
    },
    {
     "data": {
      "image/png": "[encoded data removed]",
      "text/plain": [
       "<Figure size 432x288 with 1 Axes>"
      ]
     },
     "metadata": {
      "needs_background": "light"
     },
     "output_type": "display_data"
    }
   ],
   "source": [
    "plt.scatter(Y[:,0], Y[:,1], c= ghmm.S)"
   ]
  },
  {
   "cell_type": "code",
   "execution_count": null,
   "metadata": {},
   "outputs": [],
   "source": []
  },
  {
   "cell_type": "code",
   "execution_count": 22,
   "metadata": {},
   "outputs": [
    {
     "data": {
      "text/plain": [
       "1.0"
      ]
     },
     "execution_count": 22,
     "metadata": {},
     "output_type": "execute_result"
    }
   ],
   "source": [
    "(ghmm.sDist.rvs() == S0).mean() # Precision or Error rate"
   ]
  },
  {
   "cell_type": "code",
   "execution_count": 23,
   "metadata": {},
   "outputs": [
    {
     "data": {
      "text/plain": [
       "array([0, 1, 1, 0, 1, 0, 1, 0, 1, 1])"
      ]
     },
     "execution_count": 23,
     "metadata": {},
     "output_type": "execute_result"
    }
   ],
   "source": [
    "# Compute the mode for each obs\n",
    "Sgmm = np.array(ghmm.H[\"S\"][-20::])\n",
    "Sgmm = np.apply_along_axis(np.bincount, 0, Sgmm, minlength = 2 )\n",
    "Sgmm = Sgmm.argmax(0)\n",
    "Sgmm[:10]"
   ]
  },
  {
   "cell_type": "code",
   "execution_count": 24,
   "metadata": {},
   "outputs": [
    {
     "data": {
      "text/plain": [
       "1.0"
      ]
     },
     "execution_count": 24,
     "metadata": {},
     "output_type": "execute_result"
    }
   ],
   "source": [
    "(Sgmm == S0 ).mean() # Precision or Error rate"
   ]
  },
  {
   "cell_type": "code",
   "execution_count": null,
   "metadata": {},
   "outputs": [],
   "source": []
  },
  {
   "cell_type": "code",
   "execution_count": 25,
   "metadata": {},
   "outputs": [
    {
     "data": {
      "text/plain": [
       "{'mu': array([[-5.26039314, -5.31269361, -4.82830999],\n",
       "        [ 4.70983647,  5.00102701,  4.84125581]]),\n",
       " 'omega_inv': array([[[ 0.21253023,  0.03078452, -0.00316485],\n",
       "         [ 0.03078452,  0.30510653,  0.00752776],\n",
       "         [-0.00316485,  0.00752776,  0.24748919]],\n",
       " \n",
       "        [[ 0.19205047,  0.00033092,  0.00385162],\n",
       "         [ 0.00033092,  0.21883732, -0.01297035],\n",
       "         [ 0.00385162, -0.01297035,  0.22250608]]])}"
      ]
     },
     "execution_count": 25,
     "metadata": {},
     "output_type": "execute_result"
    }
   ],
   "source": [
    "ghmm.Theta"
   ]
  },
  {
   "cell_type": "code",
   "execution_count": 26,
   "metadata": {},
   "outputs": [
    {
     "data": {
      "text/plain": [
       "array([[-5.21447996, -5.32516417, -4.68700837],\n",
       "       [ 5.10386192,  4.82898006,  4.75152396]])"
      ]
     },
     "execution_count": 26,
     "metadata": {},
     "output_type": "execute_result"
    }
   ],
   "source": [
    "ghmm.tListDictDist[\"mu\"].rvs()"
   ]
  },
  {
   "cell_type": "code",
   "execution_count": 27,
   "metadata": {},
   "outputs": [
    {
     "data": {
      "text/plain": [
       "array([[[ 5.38, -0.06,  0.03],\n",
       "        [-0.06,  3.84,  0.18],\n",
       "        [ 0.03,  0.18,  4.79]],\n",
       "\n",
       "       [[ 4.73,  0.02, -0.2 ],\n",
       "        [ 0.02,  4.71,  0.69],\n",
       "        [-0.2 ,  0.69,  4.43]]])"
      ]
     },
     "execution_count": 27,
     "metadata": {},
     "output_type": "execute_result"
    }
   ],
   "source": [
    "np.linalg.inv(ghmm.tListDictDist[\"omega_inv\"].rvs()).round(2)"
   ]
  },
  {
   "cell_type": "code",
   "execution_count": 28,
   "metadata": {
    "scrolled": true
   },
   "outputs": [
    {
     "data": {
      "text/plain": [
       "[array([[-5.36931237, -5.05794946, -4.67708111],\n",
       "        [ 4.57122652,  4.90772736,  5.15551959]]),\n",
       " array([[-5.19709088, -5.116179  , -4.79595988],\n",
       "        [ 4.79314555,  5.14518935,  4.87507948]]),\n",
       " array([[-5.21290988, -5.16898617, -4.73597677],\n",
       "        [ 4.7380599 ,  5.01419321,  4.89199503]]),\n",
       " array([[-5.36200636, -5.34561416, -4.78113511],\n",
       "        [ 4.8669738 ,  4.59800506,  4.85920539]]),\n",
       " array([[-5.15019359, -5.25831575, -4.85164437],\n",
       "        [ 4.88296237,  5.29950893,  5.12573852]])]"
      ]
     },
     "execution_count": 28,
     "metadata": {},
     "output_type": "execute_result"
    }
   ],
   "source": [
    "[history[\"mu\"] for history in ghmm.H[\"Theta\"][-5::]] # Last 5 mu samples"
   ]
  },
  {
   "cell_type": "code",
   "execution_count": 29,
   "metadata": {},
   "outputs": [
    {
     "data": {
      "text/plain": [
       "[array([[0.17452156, 0.82547844],\n",
       "        [0.54228321, 0.45771679]]), array([[0.1362664 , 0.8637336 ],\n",
       "        [0.57622916, 0.42377084]]), array([[0.16391855, 0.83608145],\n",
       "        [0.56024782, 0.43975218]]), array([[0.19142729, 0.80857271],\n",
       "        [0.58368791, 0.41631209]]), array([[0.23243689, 0.76756311],\n",
       "        [0.53938451, 0.46061549]]), array([[0.14871033, 0.85128967],\n",
       "        [0.57028252, 0.42971748]]), array([[0.20856008, 0.79143992],\n",
       "        [0.58097445, 0.41902555]]), array([[0.23366031, 0.76633969],\n",
       "        [0.54014325, 0.45985675]]), array([[0.17209404, 0.82790596],\n",
       "        [0.62384372, 0.37615628]]), array([[0.19043082, 0.80956918],\n",
       "        [0.53687625, 0.46312375]])]"
      ]
     },
     "execution_count": 29,
     "metadata": {},
     "output_type": "execute_result"
    }
   ],
   "source": [
    "ghmm.H[\"P\"][-10::] # Last 10 samples of P"
   ]
  },
  {
   "cell_type": "markdown",
   "metadata": {},
   "source": [
    "###  Comparison with Kmeans"
   ]
  },
  {
   "cell_type": "code",
   "execution_count": 30,
   "metadata": {},
   "outputs": [],
   "source": [
    "from sklearn.cluster import KMeans"
   ]
  },
  {
   "cell_type": "code",
   "execution_count": 31,
   "metadata": {},
   "outputs": [],
   "source": [
    "km = KMeans(n_clusters= 2)"
   ]
  },
  {
   "cell_type": "code",
   "execution_count": 32,
   "metadata": {},
   "outputs": [
    {
     "data": {
      "text/plain": [
       "KMeans(algorithm='auto', copy_x=True, init='k-means++', max_iter=300,\n",
       "    n_clusters=2, n_init=10, n_jobs=1, precompute_distances='auto',\n",
       "    random_state=None, tol=0.0001, verbose=0)"
      ]
     },
     "execution_count": 32,
     "metadata": {},
     "output_type": "execute_result"
    }
   ],
   "source": [
    "km.fit(Y)"
   ]
  },
  {
   "cell_type": "code",
   "execution_count": 33,
   "metadata": {},
   "outputs": [
    {
     "data": {
      "text/plain": [
       "1.0"
      ]
     },
     "execution_count": 33,
     "metadata": {},
     "output_type": "execute_result"
    }
   ],
   "source": [
    "(order(Y,km.labels_) == S0).mean()"
   ]
  }
 ],
 "metadata": {
  "kernelspec": {
   "display_name": "Python 3",
   "language": "python",
   "name": "python3"
  },
  "language_info": {
   "codemirror_mode": {
    "name": "ipython",
    "version": 3
   },
   "file_extension": ".py",
   "mimetype": "text/x-python",
   "name": "python",
   "nbconvert_exporter": "python",
   "pygments_lexer": "ipython3",
   "version": "3.7.0"
  }
 },
 "nbformat": 4,
 "nbformat_minor": 2
}
