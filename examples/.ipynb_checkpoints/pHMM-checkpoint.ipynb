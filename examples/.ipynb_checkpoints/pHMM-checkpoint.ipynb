{
 "cells": [
  {
   "cell_type": "markdown",
   "metadata": {},
   "source": [
    "# Poissson Hidden Markov Models"
   ]
  },
  {
   "cell_type": "code",
   "execution_count": 1,
   "metadata": {},
   "outputs": [
    {
     "name": "stdout",
     "output_type": "stream",
     "text": [
      "/home/nerk/Documents/3A_ENSAE/stat_bay\n"
     ]
    }
   ],
   "source": [
    "# Set your working directory\n",
    "%cd \"~/Documents/3A_ENSAE/stat_bay\" "
   ]
  },
  {
   "cell_type": "code",
   "execution_count": 2,
   "metadata": {},
   "outputs": [],
   "source": [
    "import numpy as np\n",
    "from matplotlib import pyplot as plt\n",
    "%matplotlib inline"
   ]
  },
  {
   "cell_type": "code",
   "execution_count": 3,
   "metadata": {},
   "outputs": [],
   "source": [
    "from models.HMM import HMM\n",
    "from models.posteriors import gamma, dirichlet, simul_s, _poisson\n",
    "from models.simulation import simul_poisson"
   ]
  },
  {
   "cell_type": "markdown",
   "metadata": {},
   "source": [
    "# We will fit a two component poisson HMM"
   ]
  },
  {
   "cell_type": "markdown",
   "metadata": {},
   "source": [
    "A 2 components poisson HMM is made of :\n",
    "* A posterior `gamma` distribution over $\\theta = \\lambda \\in IR^2$\n",
    "* A posterior distribution over $S \\in IR^n$, the states vector; where $n = #obs$\n",
    "* A posterior `dirichlet` distribution over the transition matrix $P \\in IR^{2x2}$"
   ]
  },
  {
   "cell_type": "markdown",
   "metadata": {},
   "source": [
    "We start by definig the posterior of $ \\lambda$"
   ]
  },
  {
   "cell_type": "code",
   "execution_count": 4,
   "metadata": {},
   "outputs": [],
   "source": [
    "tDictDist = {\"_lambda\": gamma()}\n",
    "\n",
    "#Let set the default parameter\n",
    "# tDictDist[\"_lambda\"]._set(a = np.array([1, 1/2]))\n",
    "# tDictDist[\"_lambda\"]._set(scale = np.array([1/2, 1]))\n",
    "tDictDist[\"_lambda\"]._set_default(a = np.array([1, 1/2]))\n",
    "tDictDist[\"_lambda\"]._set_default(scale = np.array([1/2, 1]))"
   ]
  },
  {
   "cell_type": "markdown",
   "metadata": {},
   "source": [
    "Now, the **S** distribtuion ..."
   ]
  },
  {
   "cell_type": "code",
   "execution_count": 5,
   "metadata": {},
   "outputs": [],
   "source": [
    "sDist = simul_s(func = _poisson) # S distribution"
   ]
  },
  {
   "cell_type": "markdown",
   "metadata": {},
   "source": [
    "Now the $P$ distribution"
   ]
  },
  {
   "cell_type": "code",
   "execution_count": 6,
   "metadata": {},
   "outputs": [],
   "source": [
    "pDist = dirichlet() # A dirichlet distribution is common for probability vectors\n",
    "pDist._set(a = np.array([[0.5, 0.5], [0.5,0.5]]))"
   ]
  },
  {
   "cell_type": "code",
   "execution_count": 7,
   "metadata": {},
   "outputs": [
    {
     "data": {
      "text/plain": [
       "{'a': 1}"
      ]
     },
     "execution_count": 7,
     "metadata": {},
     "output_type": "execute_result"
    }
   ],
   "source": [
    "pDist.default"
   ]
  },
  {
   "cell_type": "markdown",
   "metadata": {},
   "source": [
    "# The poisson mixture on an artificial data"
   ]
  },
  {
   "cell_type": "markdown",
   "metadata": {},
   "source": [
    "Let's simulate an artificial poisson mixture"
   ]
  },
  {
   "cell_type": "code",
   "execution_count": 8,
   "metadata": {},
   "outputs": [],
   "source": [
    "P0 = np.array([[0.2, 0.8], [0.6, 0.4]]) # the 'true' transition matrix\n",
    "theta0 = np.array([1., 10.]) # The true lambdas"
   ]
  },
  {
   "cell_type": "code",
   "execution_count": 9,
   "metadata": {},
   "outputs": [
    {
     "data": {
      "text/plain": [
       "(array([455.,  65.,  56.,  92., 124., 105.,  70.,  19.,   9.,   5.]),\n",
       " array([ 0. ,  2.1,  4.2,  6.3,  8.4, 10.5, 12.6, 14.7, 16.8, 18.9, 21. ]),\n",
       " <a list of 10 Patch objects>)"
      ]
     },
     "execution_count": 9,
     "metadata": {},
     "output_type": "execute_result"
    },
    {
     "data": {
      "image/png": "[encoded data removed]",
      "text/plain": [
       "<Figure size 432x288 with 1 Axes>"
      ]
     },
     "metadata": {
      "needs_background": "light"
     },
     "output_type": "display_data"
    }
   ],
   "source": [
    "y, SS0 = simul_poisson(P0, theta0, size = 1000) # Simulate 300 sample of poisson mixtures\n",
    "plt.hist(y)"
   ]
  },
  {
   "cell_type": "code",
   "execution_count": 10,
   "metadata": {},
   "outputs": [],
   "source": [
    "Y = y\n",
    "Theta = {\"_lambda\" : np.array([5,5])} # Initial lambdas, any !\n",
    "S = np.random.choice(2, len(Y)) # Initial S, random !\n",
    "P = np.array([[0.5,0.5],[0.5,0.5]]) # Initial P, any !"
   ]
  },
  {
   "cell_type": "code",
   "execution_count": 11,
   "metadata": {},
   "outputs": [],
   "source": [
    "phmm = HMM(tDictDist, sDist, pDist, Y=Y, S = S, Theta = Theta, P = P )"
   ]
  },
  {
   "cell_type": "code",
   "execution_count": 12,
   "metadata": {},
   "outputs": [],
   "source": [
    "phmm.run(150) # Start the gibbs sampler n-times"
   ]
  },
  {
   "cell_type": "markdown",
   "metadata": {},
   "source": [
    "# Can we recover the true clusters ? Let's see !"
   ]
  },
  {
   "cell_type": "code",
   "execution_count": 13,
   "metadata": {},
   "outputs": [
    {
     "data": {
      "text/plain": [
       "<matplotlib.collections.PathCollection at 0x7f6087c01278>"
      ]
     },
     "execution_count": 13,
     "metadata": {},
     "output_type": "execute_result"
    },
    {
     "data": {
      "image/png": "[encoded data removed]",
      "text/plain": [
       "<Figure size 432x288 with 1 Axes>"
      ]
     },
     "metadata": {
      "needs_background": "light"
     },
     "output_type": "display_data"
    }
   ],
   "source": [
    "plt.scatter(np.arange(len(Y)), Y, c= phmm.S)"
   ]
  },
  {
   "cell_type": "code",
   "execution_count": null,
   "metadata": {},
   "outputs": [],
   "source": []
  },
  {
   "cell_type": "code",
   "execution_count": 14,
   "metadata": {},
   "outputs": [
    {
     "data": {
      "text/plain": [
       "0.97"
      ]
     },
     "execution_count": 14,
     "metadata": {},
     "output_type": "execute_result"
    }
   ],
   "source": [
    "(phmm.S == SS0).mean() # Precision or Error rate"
   ]
  },
  {
   "cell_type": "code",
   "execution_count": 15,
   "metadata": {},
   "outputs": [
    {
     "data": {
      "text/plain": [
       "{'_lambda': array([ 1.10680197, 10.05270879])}"
      ]
     },
     "execution_count": 15,
     "metadata": {},
     "output_type": "execute_result"
    }
   ],
   "source": [
    "phmm.Theta"
   ]
  },
  {
   "cell_type": "code",
   "execution_count": 16,
   "metadata": {},
   "outputs": [
    {
     "data": {
      "text/plain": [
       "({'a': array([ 568. , 4908.5]), 'scale': array([0.00195695, 0.00203252])},\n",
       " {'a0': 1, 'scale0': 1, 'a': array([1. , 0.5]), 'scale': array([0.5, 1. ])})"
      ]
     },
     "execution_count": 16,
     "metadata": {},
     "output_type": "execute_result"
    }
   ],
   "source": [
    "_lambda = phmm.tListDictDist[\"_lambda\"]\n",
    "_lambda.params, _lambda.default"
   ]
  },
  {
   "cell_type": "code",
   "execution_count": 17,
   "metadata": {},
   "outputs": [
    {
     "data": {
      "text/plain": [
       "array([1.09, 9.96])"
      ]
     },
     "execution_count": 17,
     "metadata": {},
     "output_type": "execute_result"
    }
   ],
   "source": [
    "_lambda.rvs().round(2) # Our estimates are quite good !!!"
   ]
  },
  {
   "cell_type": "code",
   "execution_count": 18,
   "metadata": {},
   "outputs": [
    {
     "data": {
      "text/plain": [
       "[{'_lambda': array([1.10962036, 9.97795947])},\n",
       " {'_lambda': array([ 1.03210097, 10.08322146])},\n",
       " {'_lambda': array([1.05315087, 9.96025111])},\n",
       " {'_lambda': array([1.11343867, 9.84451529])},\n",
       " {'_lambda': array([1.16469438, 9.98635932])},\n",
       " {'_lambda': array([1.07448384, 9.86645593])},\n",
       " {'_lambda': array([1.16264596, 9.67845545])},\n",
       " {'_lambda': array([ 1.03274327, 10.04405604])},\n",
       " {'_lambda': array([1.11058672, 9.77463346])},\n",
       " {'_lambda': array([ 1.07891055, 10.21391679])}]"
      ]
     },
     "execution_count": 18,
     "metadata": {},
     "output_type": "execute_result"
    }
   ],
   "source": [
    "phmm.H[\"Theta\"][-10::] # Last 10 lambda samples"
   ]
  },
  {
   "cell_type": "code",
   "execution_count": 19,
   "metadata": {},
   "outputs": [
    {
     "data": {
      "text/plain": [
       "[array([[0.43809841, 0.56190159],\n",
       "        [0.50271442, 0.49728558]]), array([[0.49817857, 0.50182143],\n",
       "        [0.54442601, 0.45557399]]), array([[0.50373774, 0.49626226],\n",
       "        [0.52940733, 0.47059267]]), array([[0.45229929, 0.54770071],\n",
       "        [0.56788501, 0.43211499]]), array([[0.5283633 , 0.4716367 ],\n",
       "        [0.52171882, 0.47828118]]), array([[0.48331619, 0.51668381],\n",
       "        [0.54048786, 0.45951214]]), array([[0.48243538, 0.51756462],\n",
       "        [0.50046082, 0.49953918]]), array([[0.50644384, 0.49355616],\n",
       "        [0.56259536, 0.43740464]]), array([[0.52575637, 0.47424363],\n",
       "        [0.53637768, 0.46362232]]), array([[0.48148138, 0.51851862],\n",
       "        [0.52568842, 0.47431158]])]"
      ]
     },
     "execution_count": 19,
     "metadata": {},
     "output_type": "execute_result"
    }
   ],
   "source": [
    "phmm.H[\"P\"][-10::] # Last ten sample of P"
   ]
  },
  {
   "cell_type": "code",
   "execution_count": null,
   "metadata": {},
   "outputs": [],
   "source": []
  },
  {
   "cell_type": "code",
   "execution_count": null,
   "metadata": {},
   "outputs": [],
   "source": []
  }
 ],
 "metadata": {
  "kernelspec": {
   "display_name": "Python 3",
   "language": "python",
   "name": "python3"
  },
  "language_info": {
   "codemirror_mode": {
    "name": "ipython",
    "version": 3
   },
   "file_extension": ".py",
   "mimetype": "text/x-python",
   "name": "python",
   "nbconvert_exporter": "python",
   "pygments_lexer": "ipython3",
   "version": "3.7.0"
  }
 },
 "nbformat": 4,
 "nbformat_minor": 2
}
